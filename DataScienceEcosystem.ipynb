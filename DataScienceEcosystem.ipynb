{
 "cells": [
  {
   "cell_type": "markdown",
   "id": "5650e11f-0206-4c2b-8fdf-23f3105af0fc",
   "metadata": {},
   "source": [
    "# Data Science Tools and Ecosystem"
   ]
  },
  {
   "cell_type": "markdown",
   "id": "c823dc3b-3f8c-4371-90c6-692005935ffe",
   "metadata": {},
   "source": [
    "这个notebook既可以作为文本编辑工具，又可以运行代码和记录输出。"
   ]
  },
  {
   "cell_type": "markdown",
   "id": "ebd9504b-10d7-4f3a-823c-82dc2383ddce",
   "metadata": {},
   "source": [
    "一些数据科学家使用的流行语言包括：\n",
    "1. Python\n",
    "2. R\n",
    "3. Scala"
   ]
  },
  {
   "cell_type": "markdown",
   "id": "cab62dc4-c3d7-4a1b-8a60-2491447d4a3d",
   "metadata": {},
   "source": [
    "一些数据科学家常用的库包括：\n",
    "1. NumPy\n",
    "2. SciPy\n",
    "3. Pandas"
   ]
  },
  {
   "cell_type": "markdown",
   "id": "8f309adc-7aa4-4cea-a33c-095061abfed2",
   "metadata": {},
   "source": [
    "|Data Science Tools|\n",
    "|----|\n",
    "|Anaconda|\n",
    "|Jupyter Notebook|\n",
    "|Weka|"
   ]
  },
  {
   "cell_type": "markdown",
   "id": "05ef4984-a16c-4977-b935-e03eb01e2676",
   "metadata": {},
   "source": [
    "### 以下是一些在 Python 中评估算术表达式的示例。"
   ]
  },
  {
   "cell_type": "code",
   "execution_count": 4,
   "id": "54bc70df-73b1-4960-8bfa-d495c6426044",
   "metadata": {},
   "outputs": [
    {
     "name": "stdout",
     "output_type": "stream",
     "text": [
      "17\n"
     ]
    }
   ],
   "source": [
    "# 这是一个简单的算术表达式，用于先乘后加整数\n",
    "print((3*4)+5)"
   ]
  },
  {
   "cell_type": "code",
   "execution_count": 2,
   "id": "795da65e-0ecc-48a6-bca4-3c5e73f0e559",
   "metadata": {},
   "outputs": [
    {
     "name": "stdout",
     "output_type": "stream",
     "text": [
      "3.3333333333333335\n"
     ]
    }
   ],
   "source": [
    "# 这将通过除以 60 将 200 分钟转换为小时\n",
    "minutes = 200\n",
    "hours = minutes / 60\n",
    "print(hours)"
   ]
  },
  {
   "cell_type": "markdown",
   "id": "87b25c4f-a0f0-4b92-ae28-23df01aa3779",
   "metadata": {},
   "source": [
    "**目标：**\n",
    "- 创建 Jupyter Notebook\n",
    "- 创建包含 notebook 标题的 markdown 单元格\n",
    "- 创建用于介绍的 markdown 单元格"
   ]
  },
  {
   "cell_type": "markdown",
   "id": "81ec975a-56c7-40b1-a851-50c4ddc73e35",
   "metadata": {},
   "source": [
    "## 作者\n",
    "Bowen Wang"
   ]
  }
 ],
 "metadata": {
  "kernelspec": {
   "display_name": "Python 3 (ipykernel)",
   "language": "python",
   "name": "python3"
  },
  "language_info": {
   "codemirror_mode": {
    "name": "ipython",
    "version": 3
   },
   "file_extension": ".py",
   "mimetype": "text/x-python",
   "name": "python",
   "nbconvert_exporter": "python",
   "pygments_lexer": "ipython3",
   "version": "3.11.9"
  }
 },
 "nbformat": 4,
 "nbformat_minor": 5
}
